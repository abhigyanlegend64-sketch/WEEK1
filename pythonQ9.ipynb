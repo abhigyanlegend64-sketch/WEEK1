{
  "nbformat": 4,
  "nbformat_minor": 0,
  "metadata": {
    "colab": {
      "provenance": [],
      "authorship_tag": "ABX9TyNU41hVD+SoaB5vnjmKCa/P",
      "include_colab_link": true
    },
    "kernelspec": {
      "name": "python3",
      "display_name": "Python 3"
    },
    "language_info": {
      "name": "python"
    }
  },
  "cells": [
    {
      "cell_type": "markdown",
      "metadata": {
        "id": "view-in-github",
        "colab_type": "text"
      },
      "source": [
        "<a href=\"https://colab.research.google.com/github/abhigyanlegend64-sketch/WEEK1/blob/main/pythonQ9.ipynb\" target=\"_parent\"><img src=\"https://colab.research.google.com/assets/colab-badge.svg\" alt=\"Open In Colab\"/></a>"
      ]
    },
    {
      "cell_type": "code",
      "source": [
        "arr = list(map(int, input(\"Enter array: \").split()))\n",
        "\n",
        "for i in arr:\n",
        "    count = arr.count(i)\n",
        "    print(i, \"occurs\", count, \"times\")\n"
      ],
      "metadata": {
        "colab": {
          "base_uri": "https://localhost:8080/"
        },
        "id": "xPJ6JMUyxWDS",
        "outputId": "2711c561-a936-4feb-fc91-17921c415cd7"
      },
      "execution_count": 17,
      "outputs": [
        {
          "output_type": "stream",
          "name": "stdout",
          "text": [
            "Enter array:  2 7 4 7 3 \n",
            "2 occurs 1 times\n",
            "7 occurs 2 times\n",
            "4 occurs 1 times\n",
            "7 occurs 2 times\n",
            "3 occurs 1 times\n"
          ]
        }
      ]
    }
  ]
}
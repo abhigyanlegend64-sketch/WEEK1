{
  "nbformat": 4,
  "nbformat_minor": 0,
  "metadata": {
    "colab": {
      "provenance": [],
      "authorship_tag": "ABX9TyNR7eQNcEumYZ4EVK5WR2Ex",
      "include_colab_link": true
    },
    "kernelspec": {
      "name": "python3",
      "display_name": "Python 3"
    },
    "language_info": {
      "name": "python"
    }
  },
  "cells": [
    {
      "cell_type": "markdown",
      "metadata": {
        "id": "view-in-github",
        "colab_type": "text"
      },
      "source": [
        "<a href=\"https://colab.research.google.com/github/abhigyanlegend64-sketch/WEEK1/blob/main/python_Q1.ipynb\" target=\"_parent\"><img src=\"https://colab.research.google.com/assets/colab-badge.svg\" alt=\"Open In Colab\"/></a>"
      ]
    },
    {
      "cell_type": "code",
      "execution_count": 1,
      "metadata": {
        "colab": {
          "base_uri": "https://localhost:8080/"
        },
        "id": "WmELJh2K3Jw5",
        "outputId": "b79a5fff-b7c9-4546-bc0e-99b40fd7c95e"
      },
      "outputs": [
        {
          "output_type": "stream",
          "name": "stdout",
          "text": [
            "Enter elements of array: 1 2 3 4 5\n",
            "Enter element to insert: 7\n",
            "Updated array: [1, 2, 3, 4, 5, 7]\n"
          ]
        }
      ],
      "source": [
        "arr = list(map(int, input(\"Enter elements of array: \").split()))\n",
        "element = int(input(\"Enter element to insert: \"))\n",
        "arr.append(element)\n",
        "print(\"Updated array:\", arr)\n"
      ]
    }
  ]
}
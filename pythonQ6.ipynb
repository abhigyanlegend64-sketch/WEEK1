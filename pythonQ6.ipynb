{
  "nbformat": 4,
  "nbformat_minor": 0,
  "metadata": {
    "colab": {
      "provenance": [],
      "authorship_tag": "ABX9TyNFrS4ELggloUG12m9K32xr",
      "include_colab_link": true
    },
    "kernelspec": {
      "name": "python3",
      "display_name": "Python 3"
    },
    "language_info": {
      "name": "python"
    }
  },
  "cells": [
    {
      "cell_type": "markdown",
      "metadata": {
        "id": "view-in-github",
        "colab_type": "text"
      },
      "source": [
        "<a href=\"https://colab.research.google.com/github/abhigyanlegend64-sketch/WEEK1/blob/main/pythonQ6.ipynb\" target=\"_parent\"><img src=\"https://colab.research.google.com/assets/colab-badge.svg\" alt=\"Open In Colab\"/></a>"
      ]
    },
    {
      "cell_type": "code",
      "source": [],
      "metadata": {
        "id": "xPJ6JMUyxWDS"
      },
      "execution_count": 12,
      "outputs": []
    },
    {
      "cell_type": "code",
      "metadata": {
        "colab": {
          "base_uri": "https://localhost:8080/"
        },
        "id": "FSlX-wHctcv7",
        "outputId": "95ba7892-bb6f-42ae-934e-1a57b7b8cba6"
      },
      "source": [
        "arr = list(map(int, input(\"Enter array elements: \").split()))\n",
        "\n",
        "is_sorted = True\n",
        "\n",
        "for i in range(1, len(arr)):\n",
        "    if arr[i] < arr[i - 1]:\n",
        "        is_sorted = False\n",
        "        break\n",
        "\n",
        "if is_sorted:\n",
        "    print(\"Array is sorted.\")\n",
        "else:\n",
        "    print(\"Array is not sorted.\")\n"
      ],
      "execution_count": 13,
      "outputs": [
        {
          "output_type": "stream",
          "name": "stdout",
          "text": [
            "Enter array elements: 1 2 4 6 7\n",
            "Array is sorted.\n"
          ]
        }
      ]
    }
  ]
}
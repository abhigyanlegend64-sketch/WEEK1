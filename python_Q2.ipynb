{
  "nbformat": 4,
  "nbformat_minor": 0,
  "metadata": {
    "colab": {
      "provenance": [],
      "authorship_tag": "ABX9TyMULUdVwsWYMqNFEbcoaZts",
      "include_colab_link": true
    },
    "kernelspec": {
      "name": "python3",
      "display_name": "Python 3"
    },
    "language_info": {
      "name": "python"
    }
  },
  "cells": [
    {
      "cell_type": "markdown",
      "metadata": {
        "id": "view-in-github",
        "colab_type": "text"
      },
      "source": [
        "<a href=\"https://colab.research.google.com/github/abhigyanlegend64-sketch/WEEK1/blob/main/python_Q2.ipynb\" target=\"_parent\"><img src=\"https://colab.research.google.com/assets/colab-badge.svg\" alt=\"Open In Colab\"/></a>"
      ]
    },
    {
      "cell_type": "code",
      "execution_count": 1,
      "metadata": {
        "colab": {
          "base_uri": "https://localhost:8080/"
        },
        "id": "AZZsI34Mq1nY",
        "outputId": "6c8adabd-db84-43fc-f54a-b9464a73b4dc"
      },
      "outputs": [
        {
          "output_type": "stream",
          "name": "stdout",
          "text": [
            "Enter array elements: 1 2 3 4 5 6\n",
            "Largest element is: 6\n"
          ]
        }
      ],
      "source": [
        "arr = list(map(int, input(\"Enter array elements: \").split()))\n",
        "print(\"Largest element is:\", max(arr))\n"
      ]
    }
  ]
}
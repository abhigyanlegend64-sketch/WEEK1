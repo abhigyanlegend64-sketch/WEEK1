{
  "nbformat": 4,
  "nbformat_minor": 0,
  "metadata": {
    "colab": {
      "provenance": [],
      "authorship_tag": "ABX9TyMFWMb2CQ3MHoyNutpZCwGC",
      "include_colab_link": true
    },
    "kernelspec": {
      "name": "python3",
      "display_name": "Python 3"
    },
    "language_info": {
      "name": "python"
    }
  },
  "cells": [
    {
      "cell_type": "markdown",
      "metadata": {
        "id": "view-in-github",
        "colab_type": "text"
      },
      "source": [
        "<a href=\"https://colab.research.google.com/github/abhigyanlegend64-sketch/WEEK1/blob/main/pythonQ3.ipynb\" target=\"_parent\"><img src=\"https://colab.research.google.com/assets/colab-badge.svg\" alt=\"Open In Colab\"/></a>"
      ]
    },
    {
      "cell_type": "code",
      "execution_count": 3,
      "metadata": {
        "colab": {
          "base_uri": "https://localhost:8080/"
        },
        "id": "FSlX-wHctcv7",
        "outputId": "99083b84-6bb1-4b6a-e1fc-f841440b11be"
      },
      "outputs": [
        {
          "output_type": "stream",
          "name": "stdout",
          "text": [
            "Enter array elements: 1 2 3 6 84\n",
            "Second largest element is: 6\n"
          ]
        }
      ],
      "source": [
        "arr = list(map(int, input(\"Enter array elements: \").split()))\n",
        "if len(arr) < 2:\n",
        "    print(\"Second largest does not exist.\")\n",
        "else:\n",
        "    largest = second = -999999\n",
        "\n",
        "    for num in arr:\n",
        "        if num > largest:\n",
        "            second = largest\n",
        "            largest = num\n",
        "        elif num > second and num != largest:\n",
        "            second = num\n",
        "\n",
        "    if second == -999999:\n",
        "        print(\"Second largest does not exist.\")\n",
        "    else:\n",
        "        print(\"Second largest element is:\", second)\n"
      ]
    }
  ]
}
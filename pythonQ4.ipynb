{
  "nbformat": 4,
  "nbformat_minor": 0,
  "metadata": {
    "colab": {
      "provenance": [],
      "authorship_tag": "ABX9TyMz3COkI7L6mU6lwGl43sT6",
      "include_colab_link": true
    },
    "kernelspec": {
      "name": "python3",
      "display_name": "Python 3"
    },
    "language_info": {
      "name": "python"
    }
  },
  "cells": [
    {
      "cell_type": "markdown",
      "metadata": {
        "id": "view-in-github",
        "colab_type": "text"
      },
      "source": [
        "<a href=\"https://colab.research.google.com/github/abhigyanlegend64-sketch/WEEK1/blob/main/pythonQ4.ipynb\" target=\"_parent\"><img src=\"https://colab.research.google.com/assets/colab-badge.svg\" alt=\"Open In Colab\"/></a>"
      ]
    },
    {
      "cell_type": "code",
      "execution_count": 4,
      "metadata": {
        "id": "FSlX-wHctcv7"
      },
      "outputs": [],
      "source": []
    },
    {
      "cell_type": "code",
      "metadata": {
        "colab": {
          "base_uri": "https://localhost:8080/"
        },
        "id": "48b24aa0",
        "outputId": "6b235ccf-7390-44d0-cf68-d1c8002204d0"
      },
      "source": [
        "arr = list(map(int, input(\"Enter a list of numbers separated by spaces: \").split()))\n",
        "non_zeros = [x for x in arr if x != 0]\n",
        "zeros = [0] * arr.count(0)\n",
        "res = non_zeros + zeros\n",
        "print(\"After moving zeros:\", res)"
      ],
      "execution_count": 5,
      "outputs": [
        {
          "output_type": "stream",
          "name": "stdout",
          "text": [
            "Enter a list of numbers separated by spaces: 0 1 0 4 0 7\n",
            "After moving zeros: [1, 4, 7, 0, 0, 0]\n"
          ]
        }
      ]
    }
  ]
}
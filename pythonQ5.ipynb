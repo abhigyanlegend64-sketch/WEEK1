{
  "nbformat": 4,
  "nbformat_minor": 0,
  "metadata": {
    "colab": {
      "provenance": [],
      "authorship_tag": "ABX9TyMq1PVDBvtBPUdG1x3gyQtY",
      "include_colab_link": true
    },
    "kernelspec": {
      "name": "python3",
      "display_name": "Python 3"
    },
    "language_info": {
      "name": "python"
    }
  },
  "cells": [
    {
      "cell_type": "markdown",
      "metadata": {
        "id": "view-in-github",
        "colab_type": "text"
      },
      "source": [
        "<a href=\"https://colab.research.google.com/github/abhigyanlegend64-sketch/WEEK1/blob/main/pythonQ5.ipynb\" target=\"_parent\"><img src=\"https://colab.research.google.com/assets/colab-badge.svg\" alt=\"Open In Colab\"/></a>"
      ]
    },
    {
      "cell_type": "code",
      "execution_count": 7,
      "metadata": {
        "colab": {
          "base_uri": "https://localhost:8080/"
        },
        "id": "FSlX-wHctcv7",
        "outputId": "73bd93cf-bb51-460f-881d-20176965737e"
      },
      "outputs": [
        {
          "output_type": "stream",
          "name": "stdout",
          "text": [
            "Original array: [1, 2, 3, 4, 5]\n",
            "Rotated array: [5, 1, 2, 3, 4]\n"
          ]
        }
      ],
      "source": [
        "def rotate_array(arr):\n",
        "    if not arr:\n",
        "        return arr\n",
        "    last_element = arr[-1]\n",
        "    for i in range(len(arr) - 1, 0, -1):\n",
        "        arr[i] = arr[i - 1]\n",
        "    arr[0] = last_element\n",
        "    return arr\n",
        "my_array = [1, 2, 3, 4, 5]\n",
        "rotated_array = rotate_array(my_array)\n",
        "print(\"Original array:\", [1, 2, 3, 4, 5])\n",
        "print(\"Rotated array:\", rotated_array)"
      ]
    }
  ]
}